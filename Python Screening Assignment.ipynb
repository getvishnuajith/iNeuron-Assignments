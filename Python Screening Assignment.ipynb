{
 "cells": [
  {
   "cell_type": "markdown",
   "id": "1d371cf3",
   "metadata": {},
   "source": [
    "## Python Screening Assignment\n"
   ]
  },
  {
   "cell_type": "markdown",
   "id": "1d8bb0f4",
   "metadata": {},
   "source": [
    "### 1. Create a function in python to read the text file and replace specific content of the file."
   ]
  },
  {
   "cell_type": "code",
   "execution_count": 41,
   "id": "9bfc3b8a",
   "metadata": {},
   "outputs": [
    {
     "name": "stdout",
     "output_type": "stream",
     "text": [
      "Enter the file Name with extention of .txt : example.txt\n",
      "Enter the existing word to replace : placement\n",
      "Enter the new word to replace : screening\n",
      "Word have been replaced\n"
     ]
    }
   ],
   "source": [
    "# Create a file\n",
    "f = open(\"example.txt\", \"w\")\n",
    "\n",
    "# Write the text in created  file\n",
    "f.write(\"This is a placement assignment\")\n",
    "\n",
    "#close \n",
    "f.close()\n",
    "\n",
    "\n",
    "def word_replace(filename,old,new):\n",
    "    \n",
    "    # Read in the file\n",
    "    with open(filename, 'r') as file :\n",
    "      filedata = file.read()\n",
    "\n",
    "    # Replace the target string\n",
    "    filedata = filedata.replace(old,new)\n",
    "\n",
    "    # Write the file out again\n",
    "    with open(filename, 'w') as file:\n",
    "      file.write(filedata)\n",
    "    \n",
    "    # Write the file output\n",
    "    print(\"Word have been replaced\")\n",
    "    \n",
    "filename = input(\"Enter the file Name with extention of .txt : \" )\n",
    "old =  input(\"Enter the existing word to replace : \" )\n",
    "new =  input(\"Enter the new word to replace : \" )   \n",
    "\n",
    "try:\n",
    "    word_replace(filename,old,new)\n",
    "    \n",
    "except:\n",
    "    print(\"File doesnot Exist\")"
   ]
  },
  {
   "cell_type": "markdown",
   "id": "46aba240",
   "metadata": {},
   "source": [
    "### 2. Demonstrate use of abstract class, multiple inheritance and decorator in python using examples."
   ]
  },
  {
   "cell_type": "markdown",
   "id": "60c323db",
   "metadata": {},
   "source": [
    "#### Abstract  Class"
   ]
  },
  {
   "cell_type": "markdown",
   "id": "44eb932a",
   "metadata": {},
   "source": [
    "We can consider an abstract class as a blue print for other classes. It allows us to create a set of methods that must be created within any child classws bult from the abstract class. An abstract class which contains one or more abstract methods. An abstract method is a method that has a declaration but does not have an implementation and class without abstract method is concrete class. If the class is an abstract class we cannot create object."
   ]
  },
  {
   "cell_type": "code",
   "execution_count": 42,
   "id": "01eda0ba",
   "metadata": {},
   "outputs": [
    {
     "name": "stdout",
     "output_type": "stream",
     "text": [
      "I have 3 sides\n",
      "I have 4 sides\n"
     ]
    }
   ],
   "source": [
    "# Python program showing\n",
    "# abstract base class work\n",
    "\n",
    "from abc import ABC, abstractmethod\n",
    "\n",
    "# abstract class \n",
    "class Polygon(ABC):\n",
    "\n",
    "    @abstractmethod\n",
    "    def number_of_sides(self):\n",
    "        pass\n",
    "\n",
    "# concrete class \n",
    "class Triangle(Polygon):\n",
    "\n",
    "    # overriding abstract method\n",
    "    def number_of_sides(self):\n",
    "        print(\"I have 3 sides\")\n",
    "\n",
    "\n",
    "class Quadrilateral(Polygon):\n",
    "\n",
    "    # overriding abstract method\n",
    "    def number_of_sides(self):\n",
    "        print(\"I have 4 sides\")\n",
    "\n",
    "# Driver code\n",
    "R = Triangle()\n",
    "R.number_of_sides()\n",
    "\n",
    "K = Quadrilateral()\n",
    "K.number_of_sides()\n",
    "\n"
   ]
  },
  {
   "cell_type": "markdown",
   "id": "990d3af5",
   "metadata": {},
   "source": [
    "   Above example give us a good idea on abstract class and concrete class. As we said earlier An abstract method is a method that has a declaration but does not have an implementation. By using inheritance abstract class is coverted to concrete class. By using decorator @abstractmethod abstract class is formed only declaration with a pass is in it. In concrete class we can also see the implementation also."
   ]
  },
  {
   "cell_type": "markdown",
   "id": "a46a1f8a",
   "metadata": {},
   "source": [
    "#### Multiple Inheritance"
   ]
  },
  {
   "cell_type": "markdown",
   "id": "c9473655",
   "metadata": {},
   "source": [
    "   The four pillars of Object- Oriented Programming are Abstraction, Encapsulation, Inheritance and Polymorphism.Multiple - Inheritance is the sub category of Inheritance. When one object acquire the properties and methods of another object is Inheritance. Here reusability is the main object. We know, we have to use same thing for multiple times. Inheritance is the solution of this problem. We could see a parent - child relationship through inheritance.\n",
    "    \n",
    "   Multiple Inheritance means when a class is derived from more than one base class. The derived class inherits all the features of the base case. Multiple inheritance is useful when a subclass needs to combine multiple contracts and inherit some, or all, of the implementation of those contracts.\n",
    "    \n",
    "   we can conside two parent class car and bike respectievely with a child class as cycle. Cycle has the property of both parent class.\n",
    "    \n",
    "    \n",
    "\n"
   ]
  },
  {
   "cell_type": "code",
   "execution_count": 21,
   "id": "ce8830df",
   "metadata": {},
   "outputs": [],
   "source": [
    "#case 1\n",
    "#parent class 1\n",
    "class car:\n",
    "    def __init__(self, name,fuel,colour) :\n",
    "        self.name= name \n",
    "        self.fuel= fuel \n",
    "        self.colour= colour \n",
    "        \n",
    "        \n",
    "    def feature(self) : \n",
    "        print(\"This is the feature of car class \")\n",
    "\n",
    "#parent class 2\n",
    "class bike:\n",
    "    \n",
    "    def __init__(self , manufacturer,break_type,tyre_type) :\n",
    "        self.manufacturer = manufacturer \n",
    "        self.break_type = break_type \n",
    "        self.tyre_type = tyre_type \n",
    "        \n",
    "    def feature1(self) : \n",
    "        print(\"This is the feature of bike class\")\n",
    "\n",
    "#child class 2\n",
    "class Autorickshaw(car,bike):\n",
    "    pass"
   ]
  },
  {
   "cell_type": "code",
   "execution_count": 22,
   "id": "f7da7ce7",
   "metadata": {},
   "outputs": [
    {
     "ename": "TypeError",
     "evalue": "__init__() missing 3 required positional arguments: 'name', 'fuel', and 'colour'",
     "output_type": "error",
     "traceback": [
      "\u001b[1;31m---------------------------------------------------------------------------\u001b[0m",
      "\u001b[1;31mTypeError\u001b[0m                                 Traceback (most recent call last)",
      "\u001b[1;32m~\\AppData\\Local\\Temp/ipykernel_13644/3176220514.py\u001b[0m in \u001b[0;36m<module>\u001b[1;34m\u001b[0m\n\u001b[1;32m----> 1\u001b[1;33m \u001b[0mv\u001b[0m \u001b[1;33m=\u001b[0m \u001b[0mAutorickshaw\u001b[0m\u001b[1;33m(\u001b[0m\u001b[1;33m)\u001b[0m\u001b[1;33m\u001b[0m\u001b[1;33m\u001b[0m\u001b[0m\n\u001b[0m",
      "\u001b[1;31mTypeError\u001b[0m: __init__() missing 3 required positional arguments: 'name', 'fuel', and 'colour'"
     ]
    }
   ],
   "source": [
    "v = Autorickshaw()"
   ]
  },
  {
   "cell_type": "markdown",
   "id": "a1a4c68a",
   "metadata": {},
   "source": [
    "we can change the position of arguments"
   ]
  },
  {
   "cell_type": "code",
   "execution_count": 23,
   "id": "c8356190",
   "metadata": {},
   "outputs": [],
   "source": [
    "#case 2\n",
    "#parent class 1\n",
    "class car:\n",
    "    def __init__(self, name,fuel,colour) :\n",
    "        self.name= name \n",
    "        self.fuel= fuel \n",
    "        self.colour= colour \n",
    "        \n",
    "        \n",
    "    def feature(self) : \n",
    "        print(\"This is the feature of car class \")\n",
    "\n",
    "#parent class 2\n",
    "class bike:\n",
    "    \n",
    "    def __init__(self , manufacturer,break_type,tyre_type) :\n",
    "        self.manufacturer = manufacturer \n",
    "        self.break_type = break_type \n",
    "        self.tyre_type = tyre_type \n",
    "        \n",
    "    def feature1(self) : \n",
    "        print(\"This is the feature of bike class\")\n",
    "\n",
    "#child class 2\n",
    "        \n",
    "class Autorickshaw(bike,car):\n",
    "    pass"
   ]
  },
  {
   "cell_type": "code",
   "execution_count": 24,
   "id": "96258b29",
   "metadata": {},
   "outputs": [
    {
     "ename": "TypeError",
     "evalue": "__init__() missing 3 required positional arguments: 'manufacturer', 'break_type', and 'tyre_type'",
     "output_type": "error",
     "traceback": [
      "\u001b[1;31m---------------------------------------------------------------------------\u001b[0m",
      "\u001b[1;31mTypeError\u001b[0m                                 Traceback (most recent call last)",
      "\u001b[1;32m~\\AppData\\Local\\Temp/ipykernel_13644/3176220514.py\u001b[0m in \u001b[0;36m<module>\u001b[1;34m\u001b[0m\n\u001b[1;32m----> 1\u001b[1;33m \u001b[0mv\u001b[0m \u001b[1;33m=\u001b[0m \u001b[0mAutorickshaw\u001b[0m\u001b[1;33m(\u001b[0m\u001b[1;33m)\u001b[0m\u001b[1;33m\u001b[0m\u001b[1;33m\u001b[0m\u001b[0m\n\u001b[0m",
      "\u001b[1;31mTypeError\u001b[0m: __init__() missing 3 required positional arguments: 'manufacturer', 'break_type', and 'tyre_type'"
     ]
    }
   ],
   "source": [
    "v = Autorickshaw()"
   ]
  },
  {
   "cell_type": "markdown",
   "id": "776da340",
   "metadata": {},
   "source": [
    "From both cases we could understand first argument class has the priority. It will try to inherit, in the case of multiple parents.In method wise it will import all the methods.\n",
    "\n",
    "so for getting  the variables of both class we have to use *args ,**kwargs and is explained in case 3"
   ]
  },
  {
   "cell_type": "code",
   "execution_count": 33,
   "id": "e98e6fa7",
   "metadata": {},
   "outputs": [],
   "source": [
    "#case 3\n",
    "#parent class 1\n",
    "class car:\n",
    "    def __init__(self, name,fuel,colour) :\n",
    "        self.name= name \n",
    "        self.fuel= fuel \n",
    "        self.colour= colour \n",
    "        \n",
    "        \n",
    "    def feature(self) : \n",
    "        print(\"This is the feature of car class \")\n",
    "\n",
    "#parent class 2\n",
    "class bike:\n",
    "    \n",
    "    def __init__(self , manufacturer,break_type,tyre_type) :\n",
    "        self.manufacturer = manufacturer \n",
    "        self.break_type = break_type \n",
    "        self.tyre_type = tyre_type \n",
    "        \n",
    "    def feature1(self) : \n",
    "        print(\"This is the feature of bike class\")\n",
    "\n",
    "#child class 2\n",
    "        \n",
    "class Autorickshaw(bike,car):\n",
    "    def __init__(self , *args ,**kwargs):\n",
    "        car.__init__(self,*args) \n",
    "        bike.__init__(self,**kwargs)"
   ]
  },
  {
   "cell_type": "code",
   "execution_count": 34,
   "id": "6ac67807",
   "metadata": {},
   "outputs": [],
   "source": [
    "v = Autorickshaw('bajaj','petrol','red',manufacturer = 'RE',break_type = 'dISC',tyre_type='TUBELESS')"
   ]
  },
  {
   "cell_type": "code",
   "execution_count": 35,
   "id": "3ccd42ac",
   "metadata": {},
   "outputs": [
    {
     "name": "stdout",
     "output_type": "stream",
     "text": [
      "This is the feature of car class \n"
     ]
    }
   ],
   "source": [
    "v.feature()"
   ]
  },
  {
   "cell_type": "code",
   "execution_count": 36,
   "id": "b2fb6b29",
   "metadata": {},
   "outputs": [
    {
     "name": "stdout",
     "output_type": "stream",
     "text": [
      "This is the feature of bike class\n"
     ]
    }
   ],
   "source": [
    "v.feature1()"
   ]
  },
  {
   "cell_type": "markdown",
   "id": "8b550d1e",
   "metadata": {},
   "source": [
    "#### Decorator"
   ]
  },
  {
   "cell_type": "markdown",
   "id": "6a62f09e",
   "metadata": {},
   "source": [
    "Decorators are a very powerful and useful tool in Python since it allows programmers to modify the behaviour of function or class. Decorators allow us to wrap another function in order to extend the behaviour of the wrapped function, without permanently modifying it. In the above abstract class we could find a decorator \"@abstractmethod\". As the name describes it decorate the function by modifing the behaviour.\n",
    "\n",
    "In this we are creating a function dec1 and given studying as an argument. Inside that function another function is given to print \"Vishnu is studying python\". Then it will execute studying(). Then it will print \"Vishnu Completed python and he is a python master\". It is returning nowexec,this function is  returning .  we have another function \"who_is_vishnu\", we have already assigned as who_is_vishnu = dec1(who_is_vishnu). That will execute in studying(). \n",
    "   \n",
    "        \n",
    "       "
   ]
  },
  {
   "cell_type": "code",
   "execution_count": 46,
   "id": "0aa93536",
   "metadata": {},
   "outputs": [
    {
     "name": "stdout",
     "output_type": "stream",
     "text": [
      "Vishnu is studying python\n",
      "Vishnu is a good Boy\n",
      "Vishnu Completed python and he is a python master\n"
     ]
    }
   ],
   "source": [
    "# Python program showing\n",
    "# Decorator\n",
    "\n",
    "def dec1(studying):\n",
    "    def nowexec():\n",
    "        print(\"Vishnu is studying python\")\n",
    "        studying()\n",
    "        print(\"Vishnu Completed python and he is a python master\")\n",
    "    return nowexec\n",
    "\n",
    "    \n",
    "def who_is_vishnu():\n",
    "    print(\"Vishnu is a good Boy\")\n",
    "    \n",
    "who_is_vishnu = dec1(who_is_vishnu)    \n",
    "who_is_vishnu()\n",
    "\n"
   ]
  },
  {
   "cell_type": "code",
   "execution_count": 47,
   "id": "8187fb39",
   "metadata": {},
   "outputs": [
    {
     "name": "stdout",
     "output_type": "stream",
     "text": [
      "Vishnu is studying python\n",
      "Vishnu is a good Boy\n",
      "Vishnu Completed python and he is a python master\n"
     ]
    }
   ],
   "source": [
    "def dec1(studying):\n",
    "    def nowexec():\n",
    "        print(\"Vishnu is studying python\")\n",
    "        studying()\n",
    "        print(\"Vishnu Completed python and he is a python master\")\n",
    "    return nowexec\n",
    "\n",
    "@dec1    \n",
    "def who_is_vishnu():\n",
    "    print(\"Vishnu is a good Boy\")\n",
    "    \n",
    "#who_is_vishnu = dec1(who_is_vishnu)    \n",
    "who_is_vishnu()"
   ]
  },
  {
   "cell_type": "markdown",
   "id": "881166ba",
   "metadata": {},
   "source": [
    "we can easily replace \"who_is_vishnu = dec1(who_is_vishnu) \" using  \"@dec1\" . \"@dec1\"  this representation is only available in python for easy representation."
   ]
  },
  {
   "cell_type": "code",
   "execution_count": null,
   "id": "6b422d13",
   "metadata": {},
   "outputs": [],
   "source": []
  },
  {
   "cell_type": "code",
   "execution_count": null,
   "id": "672975b2",
   "metadata": {},
   "outputs": [],
   "source": []
  },
  {
   "cell_type": "code",
   "execution_count": null,
   "id": "5183bc8f",
   "metadata": {},
   "outputs": [],
   "source": []
  },
  {
   "cell_type": "code",
   "execution_count": null,
   "id": "b850e82d",
   "metadata": {},
   "outputs": [],
   "source": []
  },
  {
   "cell_type": "code",
   "execution_count": null,
   "id": "89cafd54",
   "metadata": {},
   "outputs": [],
   "source": []
  }
 ],
 "metadata": {
  "kernelspec": {
   "display_name": "Python 3 (ipykernel)",
   "language": "python",
   "name": "python3"
  },
  "language_info": {
   "codemirror_mode": {
    "name": "ipython",
    "version": 3
   },
   "file_extension": ".py",
   "mimetype": "text/x-python",
   "name": "python",
   "nbconvert_exporter": "python",
   "pygments_lexer": "ipython3",
   "version": "3.9.7"
  }
 },
 "nbformat": 4,
 "nbformat_minor": 5
}
